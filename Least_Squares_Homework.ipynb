{
 "cells": [
  {
   "cell_type": "code",
   "execution_count": null,
   "id": "f09ca70a",
   "metadata": {},
   "outputs": [],
   "source": [
    "import numpy as np\n",
    "import matplotlib.pyplot as plt"
   ]
  },
  {
   "cell_type": "code",
   "execution_count": null,
   "id": "765d1ee4",
   "metadata": {},
   "outputs": [],
   "source": [
    "# The data\n",
    "\n",
    "# The ages\n",
    "x_arr = np.array([2,2.5,3,3.5,4,4.5,5,5.5,6])\n",
    "\n",
    "# The Heights\n",
    "y_arr = np.array([ 81.544,  88.438,  99.74 ,  95.926, 107.504, 111.174, 109.067, 107.305, 115.842])"
   ]
  },
  {
   "cell_type": "code",
   "execution_count": null,
   "id": "33bac180",
   "metadata": {},
   "outputs": [],
   "source": [
    "# Plot the data\n",
    "\n",
    "fig, ax = plt.subplots()\n",
    "\n",
    "ax.plot(x_arr,y_arr,'x',markersize=12)\n",
    "\n",
    "ax.set_xlabel(r'Age',fontsize=14)\n",
    "ax.set_ylabel(r'Height',fontsize=14)\n"
   ]
  },
  {
   "cell_type": "code",
   "execution_count": null,
   "id": "eb804bdd",
   "metadata": {},
   "outputs": [],
   "source": [
    "# The function for the line \n",
    "\n",
    "def line_function(x,b,m):\n",
    "    \n",
    "    return m * x + b"
   ]
  },
  {
   "cell_type": "code",
   "execution_count": null,
   "id": "25275061",
   "metadata": {
    "scrolled": false
   },
   "outputs": [],
   "source": [
    "# Plot the data and any line\n",
    "\n",
    "fig, ax = plt.subplots()\n",
    "\n",
    "ax.plot(x_arr,y_arr,'x',markersize=12)\n",
    "\n",
    "########################################################################\n",
    "\n",
    "# Choose values for the slope m and the intercept b to plot a line\n",
    "\n",
    "m_plot = \n",
    "\n",
    "b_plot = \n",
    "\n",
    "line_to_plot = line_function(x_arr, b_plot, m_plot)\n",
    "\n",
    "ax.plot(x_arr,line_to_plot,'-')\n",
    "\n",
    "########################################################################\n",
    "\n",
    "\n",
    "ax.set_xlabel(r'Age',fontsize=14)\n",
    "ax.set_ylabel(r'Height',fontsize=14)\n"
   ]
  },
  {
   "cell_type": "code",
   "execution_count": null,
   "id": "b6ad566a",
   "metadata": {},
   "outputs": [],
   "source": [
    "# The calculation of the sum of squares\n",
    "\n",
    "def sum_squares_height(params,x_dat,y_dat):\n",
    "    \n",
    "    b = params[0]\n",
    "    m = params[1]\n",
    "    \n",
    "    line = line_function(x_dat, b, m)\n",
    "    \n",
    "    distances = y_dat - line\n",
    "    \n",
    "    ########################################################################\n",
    "\n",
    "    # Using np.sum, fill out the formula for the sum of squares\n",
    "    \n",
    "    sum_of_squares = np.sum(     )\n",
    "    \n",
    "    ########################################################################\n",
    "    \n",
    "    return sum_of_squares"
   ]
  },
  {
   "cell_type": "code",
   "execution_count": null,
   "id": "4967d24c",
   "metadata": {},
   "outputs": [],
   "source": [
    "########################################################################\n",
    "\n",
    "# Print some values of the sum of squares to get a feeling if it is working\n",
    "\n",
    "# Params are a list like [ b , m ] (ex: 75, 9 should give Sum of Squares = 949.5)\n",
    "\n",
    "test_params = \n",
    "\n",
    "Sum_of_squares_test = sum_squares_height(test_params,x_arr,y_arr)\n",
    "\n",
    "########################################################################\n",
    "print(Sum_of_squares_test)"
   ]
  },
  {
   "cell_type": "code",
   "execution_count": null,
   "id": "35f10de8",
   "metadata": {},
   "outputs": [],
   "source": [
    "# Plot the sum of squares in 2D\n",
    "\n",
    "# Preliminary things to plot in 2D\n",
    "b_plot = np.linspace(50,90,90)\n",
    "m_plot = np.linspace(3,13,100)\n",
    "b_2d, m_2d  = np.meshgrid(b_plot,m_plot)\n",
    "\n",
    "# Construction of the sum of squares to plot\n",
    "SS_plot = np.array([[sum_squares_height([b, m], x_arr, y_arr) for b in b_plot] for m in m_plot])\n",
    "\n",
    "# We plot the log_10 of the Sum of Squares, as that is easier to view (but try removing the log!)\n",
    "plt.contourf( m_2d, b_2d, np.log10(SS_plot))\n",
    "\n",
    "plt.xlabel(r'$m$',fontsize=14)\n",
    "plt.ylabel(r'$b$',fontsize=14)\n",
    "plt.colorbar(label=r'$\\log_{10} S$')"
   ]
  },
  {
   "cell_type": "code",
   "execution_count": null,
   "id": "684484a2",
   "metadata": {},
   "outputs": [],
   "source": [
    "# Now use the minimize function of scipy to get the minimum numerically\n",
    "from scipy.optimize import minimize\n",
    "\n",
    "########################################################################\n",
    "#\n",
    "# minimize needs:\n",
    "#  - the function to minimise (your Sum of Squares from above)\n",
    "#  - an initial parameter set as a list [ b, m ] (can be almost anything, but best near the minimum)\n",
    "#  - and the addtional parameters for the function (the data in this case that is already filled out)\n",
    "\n",
    "function_to_minimise = \n",
    "\n",
    "initial_params = [ , ]\n",
    "\n",
    "########################################################################\n",
    "\n",
    "res_minimum = minimize(function_to_minimise,initial_params,args=(x_arr,y_arr))\n",
    "\n",
    "# Printing will give you lots of information about the minimisation procedure\n",
    "print(res_minimum)"
   ]
  },
  {
   "cell_type": "code",
   "execution_count": null,
   "id": "24556216",
   "metadata": {},
   "outputs": [],
   "source": [
    "# To get the best-fit parameters you access .x\n",
    "\n",
    "params_minimum = res_minimum.x\n",
    "\n",
    "print('b =',params_minimum[0])\n",
    "print('m =',params_minimum[1])"
   ]
  },
  {
   "cell_type": "code",
   "execution_count": null,
   "id": "88472f2c",
   "metadata": {},
   "outputs": [],
   "source": [
    "# To get the value of the Sum of Squares at the best-fit parameters you access .fun\n",
    "\n",
    "print('Sum of Squares =',res_minimum.fun)"
   ]
  },
  {
   "cell_type": "code",
   "execution_count": null,
   "id": "a57eb36e",
   "metadata": {},
   "outputs": [],
   "source": [
    "# Finally, you are going to check if the formulas given in class match the minimize result\n",
    "\n",
    "# You need the means of the data \n",
    "\n",
    "x_mean = np.mean(x_arr)\n",
    "y_mean = np.mean(y_arr)\n",
    "\n",
    "# And the number of data points n (which is just the lenght of the data)\n",
    "\n",
    "n_points = len(x_arr)\n",
    "\n",
    "########################################################################\n",
    "#\n",
    "# The formula for m is \n",
    "#\n",
    "# m = Sxy / Sxx\n",
    "#\n",
    "# Sxy = x1 * y1 + x2 * y2 + ... - n * x_mean * y_mean\n",
    "#\n",
    "# Sxx = x1 * x1 + x2 * x2 + ... - n * x_mean * x_mean\n",
    "#\n",
    "# Use these for this data using np.sum\n",
    "\n",
    "Sxy = np.sum(  ) - \n",
    "\n",
    "Sxx = np.sum(  ) - \n",
    "\n",
    "m_formula = Sxy / Sxx\n",
    "\n",
    "b_formula = y_mean - m_formula * x_mean\n",
    "\n",
    "########################################################################\n",
    "\n",
    "# Now verify if you get the same results as with minimize\n",
    "\n",
    "print('From formulas')\n",
    "print('b=',b_formula)\n",
    "print('m=',m_formula)\n",
    "\n",
    "print('\\nFrom minimize')\n",
    "print('b =',params_minimum[0])\n",
    "print('m =',params_minimum[1])"
   ]
  },
  {
   "cell_type": "code",
   "execution_count": null,
   "id": "4bf2405f",
   "metadata": {},
   "outputs": [],
   "source": []
  }
 ],
 "metadata": {
  "kernelspec": {
   "display_name": "Python 3 (ipykernel)",
   "language": "python",
   "name": "python3"
  },
  "language_info": {
   "codemirror_mode": {
    "name": "ipython",
    "version": 3
   },
   "file_extension": ".py",
   "mimetype": "text/x-python",
   "name": "python",
   "nbconvert_exporter": "python",
   "pygments_lexer": "ipython3",
   "version": "3.9.15"
  }
 },
 "nbformat": 4,
 "nbformat_minor": 5
}
